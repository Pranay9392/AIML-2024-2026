{
  "nbformat": 4,
  "nbformat_minor": 0,
  "metadata": {
    "colab": {
      "provenance": [],
      "authorship_tag": "ABX9TyNRFx5N+GxXlmjCeE98a4no",
      "include_colab_link": true
    },
    "kernelspec": {
      "name": "python3",
      "display_name": "Python 3"
    },
    "language_info": {
      "name": "python"
    }
  },
  "cells": [
    {
      "cell_type": "markdown",
      "metadata": {
        "id": "view-in-github",
        "colab_type": "text"
      },
      "source": [
        "<a href=\"https://colab.research.google.com/github/Pranay9392/AIML-2024-2026/blob/main/ai_ml_class_jan_31_tic_toe.ipynb\" target=\"_parent\"><img src=\"https://colab.research.google.com/assets/colab-badge.svg\" alt=\"Open In Colab\"/></a>"
      ]
    },
    {
      "cell_type": "code",
      "execution_count": null,
      "metadata": {
        "id": "rVjZP5L75f-P"
      },
      "outputs": [],
      "source": [
        "from collections import namedtuple , Counter, defaultdict\n",
        "import random\n",
        "import math\n",
        "import functools\n",
        "cache = functools.lru_cache(10**6)"
      ]
    },
    {
      "cell_type": "code",
      "source": [
        "class Game:\n",
        "    def actions(self, state):\n",
        "        raise NotImplementedError\n",
        "\n",
        "    def result(self, state, move):\n",
        "        raise NotImplementedError\n",
        "\n",
        "    def is_terminal(self, state):\n",
        "        return not self.actions(state)\n",
        "\n",
        "    def utility(self, state, player):\n",
        "        raise NotImplementedError\n",
        "\n",
        "\n"
      ],
      "metadata": {
        "id": "YQbGA_PP8wnW"
      },
      "execution_count": null,
      "outputs": []
    },
    {
      "cell_type": "code",
      "source": [
        "class TicTacToe(Game):\n",
        "    def __init__(self):\n",
        "        self.board = [[' ' for _ in range(3)] for _ in range(3)]\n",
        "        self.current_player = 'X'\n",
        "\n",
        "    def actions(self, state):\n",
        "        moves = [(i, j) for i in range(3) for j in range(3) if state[i][j] == ' ']\n",
        "        return moves\n",
        "\n",
        "    def result(self, state, move):\n",
        "        i, j = move\n",
        "        player = self.current_player\n",
        "        new_state = [row.copy() for row in state]\n",
        "        new_state[i][j] = player\n",
        "        return new_state\n",
        "\n",
        "    def is_terminal(self, state):\n",
        "        return self.check_winner(state) or all(state[i][j] != ' ' for i in range(3) for j in range(3))\n",
        "\n",
        "    def utility(self, state, player):\n",
        "        winner = self.check_winner(state)\n",
        "        if winner == player:\n",
        "            return 1\n",
        "        elif winner:\n",
        "            return -1\n",
        "        else:\n",
        "            return 0\n",
        "\n",
        "    def check_winner(self, state):\n",
        "        for i in range(3):\n",
        "            if state[i][0] == state[i][1] == state[i][2] != ' ' or state[0][i] == state[1][i] == state[2][i] != ' ':\n",
        "                return state[i][0]\n",
        "\n",
        "        if state[0][0] == state[1][1] == state[2][2] != ' ' or state[0][2] == state[1][1] == state[2][0] != ' ':\n",
        "            return state[1][1]\n",
        "\n",
        "        return None\n"
      ],
      "metadata": {
        "id": "vQOtUUok-wBL"
      },
      "execution_count": null,
      "outputs": []
    },
    {
      "cell_type": "code",
      "source": [
        "def play_game(game, strategies: dict, verbose=False):\n",
        "    state = game.initial\n",
        "\n",
        "    while not game.is_terminal(state):\n",
        "        player = state.to_move\n",
        "        move = strategies[player](state, game)\n",
        "        state = game.result(state, move)\n",
        "\n",
        "        if verbose:\n",
        "            print(f\"Player {player}, Move: {move}\")\n",
        "            print(state)\n",
        "\n",
        "    return state\n"
      ],
      "metadata": {
        "id": "sCh88gof_Egn"
      },
      "execution_count": null,
      "outputs": []
    },
    {
      "cell_type": "code",
      "source": [
        "class Game:\n",
        "    def actions(self, state):\n",
        "        raise NotImplementedError\n",
        "\n",
        "    def result(self, state, move):\n",
        "        raise NotImplementedError\n",
        "\n",
        "    def is_terminal(self, state):\n",
        "        return not self.actions(state)\n",
        "\n",
        "    def utility(self, state, player):\n",
        "        raise NotImplementedError\n",
        "\n",
        "\n",
        "class TicTacToe(Game):\n",
        "    def __init__(self):\n",
        "        self.board = [[' ' for _ in range(3)] for _ in range(3)]\n",
        "        self.current_player = 'X'\n",
        "\n",
        "    def actions(self, state):\n",
        "        moves = [(i, j) for i in range(3) for j in range(3) if state[i][j] == ' ']\n",
        "        return moves\n",
        "\n",
        "    def result(self, state, move):\n",
        "        i, j = move\n",
        "        player = self.current_player\n",
        "        new_state = [row.copy() for row in state]\n",
        "        new_state[i][j] = player\n",
        "        self.current_player = 'O' if player == 'X' else 'X'\n",
        "        return new_state\n",
        "\n",
        "    def is_terminal(self, state):\n",
        "        return self.check_winner(state) or all(state[i][j] != ' ' for i in range(3) for j in range(3))\n",
        "\n",
        "    def utility(self, state, player):\n",
        "        winner = self.check_winner(state)\n",
        "        if winner == player:\n",
        "            return 1\n",
        "        elif winner:\n",
        "            return -1\n",
        "        else:\n",
        "            return 0\n",
        "\n",
        "    def check_winner(self, state):\n",
        "        for i in range(3):\n",
        "            if state[i][0] == state[i][1] == state[i][2] != ' ' or state[0][i] == state[1][i] == state[2][i] != ' ':\n",
        "                return state[i][0]\n",
        "\n",
        "        if state[0][0] == state[1][1] == state[2][2] != ' ' or state[0][2] == state[1][1] == state[2][0] != ' ':\n",
        "            return state[1][1]\n",
        "\n",
        "        return None\n",
        "\n",
        "\n",
        "def print_board(board):\n",
        "    for row in board:\n",
        "        print(\" | \".join(row))\n",
        "        print(\"-\" * 9)\n",
        "\n",
        "\n",
        "def play_game(game, strategies: dict, verbose=False):\n",
        "    state = game.board\n",
        "\n",
        "    while not game.is_terminal(state):\n",
        "        player = game.current_player\n",
        "        move = strategies[player](state, game)\n",
        "        state = game.result(state, move)\n",
        "\n",
        "        if verbose:\n",
        "            print(f\"Player {player}, Move: {move}\")\n",
        "            print_board(state)\n",
        "\n",
        "    winner = game.check_winner(state)\n",
        "    if winner:\n",
        "        print(f\"Player {winner} wins!\")\n",
        "    else:\n",
        "        print(\"It's a draw!\")\n",
        "\n",
        "if __name__ == \"__main__\":\n",
        "    tic_tac_toe = TicTacToe()\n",
        "    strategies = {'X': lambda state, game: tuple(map(int, input(\"Enter your move (row and column): \").split())),\n",
        "                  'O': lambda state, game: (0, 0)}  # Simple strategy for 'O', always chooses the top-left corner\n",
        "\n",
        "    play_game(tic_tac_toe, strategies, verbose=True)\n"
      ],
      "metadata": {
        "id": "tVWgFehz_cip"
      },
      "execution_count": null,
      "outputs": []
    }
  ]
}