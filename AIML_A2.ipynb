{
  "cells": [
    {
      "cell_type": "markdown",
      "metadata": {
        "id": "view-in-github",
        "colab_type": "text"
      },
      "source": [
        "<a href=\"https://colab.research.google.com/github/Pranay9392/AIML-2024-2026/blob/main/AIML_A2.ipynb\" target=\"_parent\"><img src=\"https://colab.research.google.com/assets/colab-badge.svg\" alt=\"Open In Colab\"/></a>"
      ]
    },
    {
      "cell_type": "markdown",
      "source": [
        "**IMPLEMENTATION OF BFS**"
      ],
      "metadata": {
        "id": "0b7kR2swV8DQ"
      }
    },
    {
      "cell_type": "code",
      "execution_count": null,
      "metadata": {
        "colab": {
          "base_uri": "https://localhost:8080/"
        },
        "id": "WUwqGItQud5l",
        "outputId": "7f542445-17a9-46e7-d92d-6d168a3e2362"
      },
      "outputs": [
        {
          "output_type": "stream",
          "name": "stdout",
          "text": [
            "0 1 3 2 4 5 "
          ]
        }
      ],
      "source": [
        "#breadth first search algorithm\n",
        "def bfs(graph,root):\n",
        "  visited = set()\n",
        "  que = []\n",
        "  visited.add(root)\n",
        "  que.append(root)\n",
        "\n",
        "  while que:\n",
        "    m = que.pop(0)\n",
        "    print(m,end = \" \")\n",
        "\n",
        "    for neighbour in graph[m]:\n",
        "      if neighbour not in visited:\n",
        "        visited.add(neighbour)\n",
        "        que.append(neighbour)\n",
        "\n",
        "if __name__=='__main__':\n",
        "  graph = {\n",
        "    0 : [1,3],\n",
        "    1: [0,2,3],\n",
        "    2: [5,1,4],\n",
        "    3: [0,1,4],\n",
        "    4: [1,2,5],\n",
        "    5: [2,4]\n",
        " }\n",
        "\n",
        "\n",
        "bfs(graph,0)"
      ]
    },
    {
      "cell_type": "markdown",
      "source": [
        "**IMPLEMENTATION OF DFS**"
      ],
      "metadata": {
        "id": "TpWB9daUWDdi"
      }
    },
    {
      "cell_type": "code",
      "execution_count": null,
      "metadata": {
        "colab": {
          "base_uri": "https://localhost:8080/"
        },
        "id": "8V1IImXKxiLO",
        "outputId": "c8b1871f-71de-429f-bae5-22e342dcd507"
      },
      "outputs": [
        {
          "output_type": "stream",
          "name": "stdout",
          "text": [
            "A\n",
            "B\n",
            "S\n",
            "G\n",
            "F\n",
            "C\n",
            "D\n",
            "E\n",
            "H\n",
            "H\n",
            "C\n"
          ]
        },
        {
          "output_type": "execute_result",
          "data": {
            "text/plain": [
              "{'A', 'B', 'C', 'D', 'E', 'F', 'G', 'H', 'S'}"
            ]
          },
          "metadata": {},
          "execution_count": 13
        }
      ],
      "source": [
        "# DFS algorithm\n",
        "def dfs(graph, start, visited=None):\n",
        "    if visited is None:\n",
        "        visited = set()\n",
        "    visited.add(start)\n",
        "\n",
        "    print(start)\n",
        "\n",
        "    for next in graph[start] - visited:\n",
        "        dfs(graph, next, visited)\n",
        "    return visited\n",
        "\n",
        "\n",
        "graph = {'A': set(['B', 'S']),\n",
        "         'B': set(['A']),\n",
        "         'C': set(['S','D','E','F']),\n",
        "         'D': set(['C']),\n",
        "         'E': set(['C','H']),\n",
        "         'F': set(['C','G']),\n",
        "         'G': set(['S','F','H']),\n",
        "         'H': set(['E','G']),\n",
        "         'S': set(['A','C','G'])\n",
        "\n",
        "         }\n",
        "\n",
        "dfs(graph, 'A')"
      ]
    },
    {
      "cell_type": "markdown",
      "source": [
        "**A* Search algorithm**"
      ],
      "metadata": {
        "id": "uXQ5MnZNQw5t"
      }
    },
    {
      "cell_type": "code",
      "execution_count": 8,
      "metadata": {
        "id": "6_NfGCWT1YcU"
      },
      "outputs": [],
      "source": [
        "def aStarAlgo(start_node,stop_node):\n",
        "  open_set = set(start_node)\n",
        "  closed_set = set()\n",
        "  g={} # store distance from starting node\n",
        "  parents = {} # parents contains an adjacent map of all nodes\n",
        "\n",
        "  #distance of starting node from itself is zero\n",
        "  g[start_node]=0\n",
        "  parents[start_node] = start_node\n",
        "\n",
        "  while len(open_set)>=0:\n",
        "    n= None\n",
        "\n",
        "    for v in open_set:\n",
        "      if n==None or g[v]+heuristic(v)<g[n]+heuristic(n):\n",
        "        n = v\n",
        "\n",
        "    if n==stop_node or Graph_nodes[n] == None:\n",
        "      pass\n",
        "    else:\n",
        "      for(m,weight) in get_neighbors(n):\n",
        "        #nodes 'm' not in first and last set are added to first\n",
        "        #n is set its parent\n",
        "        if m not in open_set and m not in closed_set:\n",
        "          open_set.add(m)\n",
        "          parents[m]=n\n",
        "          g[m]=g[n]+weight\n",
        "\n",
        "          # for each node m , compare its distance form start i.e g(m) to the\n",
        "          # from start through n node\n",
        "        else:\n",
        "          if g[m]>g[n]+weight:\n",
        "            #update g(m)\n",
        "            g[m]=g[n]+weight\n",
        "            #change parent of m to n\n",
        "            parents[m]=n\n",
        "\n",
        "            # if m in closed set , remove and add to open\n",
        "\n",
        "            if m in closed_set:\n",
        "              closed_set.remove(m)\n",
        "              open_set.add(m)\n",
        "\n",
        "        if n== None:\n",
        "          print('Path does not exist!')\n",
        "          return None\n",
        "\n",
        "        # if current node is stop node\n",
        "        # then we begin reconstruction the path from it to start_node\n",
        "        if n== stop_node:\n",
        "          path = []\n",
        "\n",
        "          while parents[n]!=n:\n",
        "            path.append(n)\n",
        "            n= parents[n]\n",
        "          path.append(start_node)\n",
        "          path.reverse()\n",
        "\n",
        "          print('path found:{}'.format(path))\n",
        "          return path\n",
        "          #remove n from the open_list and add it to closed list\n",
        "          # because all of his neghbors were inspected\n",
        "        open_set.remove(n)\n",
        "        closed_set.add(n)\n",
        "    print('path does not exist!')\n",
        "    return None"
      ]
    },
    {
      "cell_type": "code",
      "source": [
        "#define function to return neighbor and its distance\n",
        "# from the passed node\n",
        "def get_neighbors(v):\n",
        "  if v in Graph_nodes:\n",
        "    return Graph_nodes[v]\n",
        "  else:\n",
        "    return None"
      ],
      "metadata": {
        "id": "Ybv6-vlXgh0P"
      },
      "execution_count": 9,
      "outputs": []
    },
    {
      "cell_type": "code",
      "source": [
        "# for simplicity we'll consider heuristic distances given\n",
        "# and this function returns heuristic distance for all nodes\n",
        "\n",
        "def heuristic(n):\n",
        "  H_dist={\n",
        "      'A':11,\n",
        "      'B':6,\n",
        "      'C':99,\n",
        "      'D':1,\n",
        "      'E':7,\n",
        "      'G':0,\n",
        "  }\n",
        "\n",
        "  return H_dist[n]"
      ],
      "metadata": {
        "id": "cjGwm3FyiRff"
      },
      "execution_count": 10,
      "outputs": []
    },
    {
      "cell_type": "code",
      "source": [
        "# describe the graph\n",
        "\n",
        "Graph_nodes = {\n",
        "    'A':[('B',2),('E',3)],\n",
        "    'B':[('C',1),('G',9)],\n",
        "    'C':None,\n",
        "    'E':[('D',6)],\n",
        "    'D':[('G',1)],\n",
        "}\n",
        "\n",
        "aStarAlgo('A','G')\n"
      ],
      "metadata": {
        "id": "yp65EStTe-5v"
      },
      "execution_count": null,
      "outputs": []
    }
  ],
  "metadata": {
    "colab": {
      "provenance": [],
      "authorship_tag": "ABX9TyO0T2ZzVzsEB9ofv+/ODQ5G",
      "include_colab_link": true
    },
    "kernelspec": {
      "display_name": "Python 3",
      "name": "python3"
    },
    "language_info": {
      "name": "python"
    }
  },
  "nbformat": 4,
  "nbformat_minor": 0
}